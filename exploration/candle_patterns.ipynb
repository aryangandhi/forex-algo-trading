{
 "cells": [
  {
   "cell_type": "code",
   "execution_count": 1,
   "id": "58b16db0",
   "metadata": {},
   "outputs": [],
   "source": [
    "import sys\n",
    "sys.path.append(\"../\")\n",
    "from plotting import CandlePlot\n",
    "import pandas as pd"
   ]
  },
  {
   "cell_type": "code",
   "execution_count": 2,
   "id": "dce43c13",
   "metadata": {},
   "outputs": [],
   "source": [
    "from technicals.patterns import apply_patterns"
   ]
  },
  {
   "cell_type": "code",
   "execution_count": 3,
   "id": "606657cf",
   "metadata": {},
   "outputs": [],
   "source": [
    "df = pd.read_pickle(\"../data/GBP_JPY_H1.pkl\")"
   ]
  },
  {
   "cell_type": "code",
   "execution_count": 4,
   "id": "fec222c3",
   "metadata": {},
   "outputs": [],
   "source": [
    "df_an = df[['time', 'mid_o', 'mid_h', 'mid_l','mid_c']].copy()"
   ]
  },
  {
   "cell_type": "code",
   "execution_count": 6,
   "id": "0abef28b",
   "metadata": {},
   "outputs": [
    {
     "ename": "TypeError",
     "evalue": "object of type 'NoneType' has no len()",
     "output_type": "error",
     "traceback": [
      "\u001b[1;31m---------------------------------------------------------------------------\u001b[0m",
      "\u001b[1;31mTypeError\u001b[0m                                 Traceback (most recent call last)",
      "Cell \u001b[1;32mIn[6], line 1\u001b[0m\n\u001b[1;32m----> 1\u001b[0m df_an \u001b[38;5;241m=\u001b[39m \u001b[43mapply_patterns\u001b[49m\u001b[43m(\u001b[49m\u001b[43mdf_an\u001b[49m\u001b[43m)\u001b[49m\n",
      "File \u001b[1;32m~\\Documents\\Algorithmic_Trading\\Course\\exploration\\..\\technicals\\patterns.py:102\u001b[0m, in \u001b[0;36mapply_patterns\u001b[1;34m(df)\u001b[0m\n\u001b[0;32m    100\u001b[0m \u001b[38;5;28;01mdef\u001b[39;00m \u001b[38;5;21mapply_patterns\u001b[39m(df: pd\u001b[38;5;241m.\u001b[39mDataFrame):\n\u001b[0;32m    101\u001b[0m   df_an \u001b[38;5;241m=\u001b[39m apply_candle_props(df)\n\u001b[1;32m--> 102\u001b[0m   \u001b[43mset_candle_patterns\u001b[49m\u001b[43m(\u001b[49m\u001b[43mdf_an\u001b[49m\u001b[43m)\u001b[49m\n\u001b[0;32m    103\u001b[0m   \u001b[38;5;28;01mreturn\u001b[39;00m df_an\n",
      "File \u001b[1;32m~\\Documents\\Algorithmic_Trading\\Course\\exploration\\..\\technicals\\patterns.py:88\u001b[0m, in \u001b[0;36mset_candle_patterns\u001b[1;34m(df_an)\u001b[0m\n\u001b[0;32m     87\u001b[0m \u001b[38;5;28;01mdef\u001b[39;00m \u001b[38;5;21mset_candle_patterns\u001b[39m(df_an: pd\u001b[38;5;241m.\u001b[39mDataFrame):\n\u001b[1;32m---> 88\u001b[0m   \u001b[38;5;28mprint\u001b[39m(\u001b[38;5;28;43mlen\u001b[39;49m\u001b[43m(\u001b[49m\u001b[43mdf_an\u001b[49m\u001b[43m)\u001b[49m)\n\u001b[0;32m     89\u001b[0m   df_an[\u001b[38;5;124m'\u001b[39m\u001b[38;5;124mHANGING_MAN\u001b[39m\u001b[38;5;124m'\u001b[39m] \u001b[38;5;241m=\u001b[39m [\u001b[38;5;28;01mTrue\u001b[39;00m \u001b[38;5;28;01mif\u001b[39;00m df_an\u001b[38;5;241m.\u001b[39mbody_bottom_perc[i] \u001b[38;5;241m>\u001b[39m \u001b[38;5;241m75.0\u001b[39m \u001b[38;5;129;01mand\u001b[39;00m df_an\u001b[38;5;241m.\u001b[39mbody_perc[i] \u001b[38;5;241m<\u001b[39m \u001b[38;5;241m15.0\u001b[39m \u001b[38;5;28;01melse\u001b[39;00m \u001b[38;5;28;01mFalse\u001b[39;00m \u001b[38;5;28;01mfor\u001b[39;00m i \u001b[38;5;129;01min\u001b[39;00m \u001b[38;5;28mrange\u001b[39m(\u001b[38;5;28mlen\u001b[39m(df_an))]\n\u001b[0;32m     90\u001b[0m   df_an[\u001b[38;5;124m'\u001b[39m\u001b[38;5;124mSHOOTING_STAR\u001b[39m\u001b[38;5;124m'\u001b[39m] \u001b[38;5;241m=\u001b[39m [\u001b[38;5;28;01mTrue\u001b[39;00m \u001b[38;5;28;01mif\u001b[39;00m df_an\u001b[38;5;241m.\u001b[39mbody_top_perc[i] \u001b[38;5;241m<\u001b[39m \u001b[38;5;241m25.0\u001b[39m \u001b[38;5;129;01mand\u001b[39;00m df_an\u001b[38;5;241m.\u001b[39mbody_perc[i] \u001b[38;5;241m<\u001b[39m \u001b[38;5;241m15.0\u001b[39m \u001b[38;5;28;01melse\u001b[39;00m \u001b[38;5;28;01mFalse\u001b[39;00m \u001b[38;5;28;01mfor\u001b[39;00m i \u001b[38;5;129;01min\u001b[39;00m \u001b[38;5;28mrange\u001b[39m(\u001b[38;5;28mlen\u001b[39m(df_an))]\n",
      "\u001b[1;31mTypeError\u001b[0m: object of type 'NoneType' has no len()"
     ]
    }
   ],
   "source": [
    "df_an = apply_patterns(df_an)"
   ]
  },
  {
   "cell_type": "code",
   "execution_count": null,
   "id": "c02a4680",
   "metadata": {},
   "outputs": [],
   "source": [
    "df_an.tail()"
   ]
  },
  {
   "cell_type": "code",
   "execution_count": null,
   "id": "83f7d2ba",
   "metadata": {},
   "outputs": [],
   "source": [
    "ENGULFING_FACTOR = 1.1\n",
    "TWEEZER_BODY = 15.0\n",
    "TWEEZER_HL = 0.01\n",
    "TWEEZER_TOP_BODY = 40.0\n",
    "TWEEZER_BOTTOM_BODY = 60.0\n",
    "MORNING_STAR_PREV2_BODY = 90.0\n",
    "MORNING_STAR_PREV_BODY = 10.0\n",
    "\n",
    "apply_marubozu = lambda x: x.body_perc > 98.0\n",
    "\n",
    "def apply_engulfing(row):\n",
    "    if row.direction != row.direction_prev:\n",
    "        if row.body_size > row.body_size_prev * ENGULFING_FACTOR:\n",
    "            return True\n",
    "    return False\n",
    "\n",
    "def apply_tweezer_top(row):\n",
    "    if abs(row.body_size_change) < TWEEZER_BODY:\n",
    "        if row.direction == -1 and row.direction != row.direction_prev:\n",
    "            if abs(row.low_change) < TWEEZER_HL and abs(row.high_change) < TWEEZER_HL:\n",
    "                if row.body_top_perc < TWEEZER_TOP_BODY:\n",
    "                    return True\n",
    "    return False\n",
    "\n",
    "def apply_tweezer_bottom(row):\n",
    "    if abs(row.body_size_change) < TWEEZER_BODY:\n",
    "        if row.direction == 1 and row.direction != row.direction_prev:\n",
    "            if abs(row.low_change) < TWEEZER_HL and abs(row.high_change) < TWEEZER_HL:\n",
    "                if row.body_bottom_perc > TWEEZER_BOTTOM_BODY:\n",
    "                    return True\n",
    "    return False\n",
    "\n",
    "def apply_morning_star(row, direction=1):\n",
    "    if row.body_perc_prev_2 > MORNING_STAR_PREV2_BODY:\n",
    "        if row.body_perc_prev < MORNING_STAR_PREV_BODY:\n",
    "            if row.direction == direction and row.direction_prev_2 != direction:\n",
    "                if direction == 1:\n",
    "                    if row.mid_c > row.mid_point_prev_2:\n",
    "                        return True\n",
    "                else:\n",
    "                    if row.mid_c < row.mid_point_prev_2:\n",
    "                        return True\n",
    "    return False\n",
    "                    "
   ]
  },
  {
   "cell_type": "code",
   "execution_count": null,
   "id": "81fbb393",
   "metadata": {},
   "outputs": [],
   "source": [
    "df_an['body_size_prev'] = df_an.body_size.shift(1)\n",
    "df_an['direction_prev'] = df_an.direction.shift(1)\n",
    "df_an['direction_prev_2'] = df_an.direction.shift(2)\n",
    "df_an['body_perc_prev'] = df_an.body_perc.shift(1)\n",
    "df_an['body_perc_prev_2'] = df_an.body_perc.shift(2)\n",
    "\n",
    "df_an['HANGING_MAN'] = [True if df_an.body_bottom_perc[i] > 75.0 and df_an.body_perc[i] < 15.0 else False for i in range(len(df_an))]\n",
    "df_an['SHOOTING_STAR'] = [True if df_an.body_top_perc[i] < 25.0 and df_an.body_perc[i] < 15.0 else False for i in range(len(df_an))]\n",
    "df_an['SPINNING_TOP'] = [True if df_an.body_top_perc[i] < 60.0 and df_an.body_bottom_perc[i] > 40.0 and df_an.body_perc[i] < 15.0 else False for i in range(len(df_an))]\n",
    "df_an['MARUBOZU'] = df_an.apply(apply_marubozu, axis=1)\n",
    "df_an['ENGULFING'] = df_an.apply(apply_engulfing, axis=1)\n",
    "df_an['TWEEZER_TOP'] = df_an.apply(apply_tweezer_top, axis=1)\n",
    "df_an['TWEEZER_BOTTOM'] = df_an.apply(apply_tweezer_bottom, axis=1)\n",
    "df_an['MORNING_STAR'] = df_an.apply(apply_morning_star, axis=1)\n",
    "df_an['EVENING_STAR'] = df_an.apply(apply_morning_star, axis=1, direction=-1)"
   ]
  },
  {
   "cell_type": "code",
   "execution_count": null,
   "id": "9ace9015",
   "metadata": {},
   "outputs": [],
   "source": [
    "df_an[df_an['EVENING_STAR'] == True]"
   ]
  },
  {
   "cell_type": "code",
   "execution_count": null,
   "id": "ae65141f",
   "metadata": {},
   "outputs": [],
   "source": [
    "import plotly.graph_objects as go\n",
    "\n",
    "MARKER = '#0066FF'\n",
    "dfp = df_an.iloc[26000:28000]\n",
    "cp = CandlePlot(dfp, candles=True)\n",
    "df_temp = cp.df_plot[cp.df_plot.EVENING_STAR == True]\n",
    "cp.fig.add_trace(go.Candlestick(\n",
    "          x = df_temp.sTime,\n",
    "          open = df_temp.mid_o,\n",
    "          high = df_temp.mid_h,\n",
    "          low = df_temp.mid_l,\n",
    "          close = df_temp.mid_c,\n",
    "          line=dict(width=1), \n",
    "          increasing_fillcolor = MARKER,\n",
    "          decreasing_fillcolor = MARKER,\n",
    "          increasing_line_color= MARKER,\n",
    "          decreasing_line_color = MARKER,\n",
    "          opacity=1,\n",
    "          \n",
    "      ))\n",
    "cp.show_plot()"
   ]
  },
  {
   "cell_type": "code",
   "execution_count": null,
   "id": "30c9afa5",
   "metadata": {},
   "outputs": [],
   "source": []
  }
 ],
 "metadata": {
  "kernelspec": {
   "display_name": "Python 3 (ipykernel)",
   "language": "python",
   "name": "python3"
  },
  "language_info": {
   "codemirror_mode": {
    "name": "ipython",
    "version": 3
   },
   "file_extension": ".py",
   "mimetype": "text/x-python",
   "name": "python",
   "nbconvert_exporter": "python",
   "pygments_lexer": "ipython3",
   "version": "3.10.4"
  }
 },
 "nbformat": 4,
 "nbformat_minor": 5
}
