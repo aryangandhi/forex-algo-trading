{
 "cells": [
  {
   "cell_type": "code",
   "execution_count": 1,
   "id": "652975d6",
   "metadata": {},
   "outputs": [],
   "source": [
    "import pandas as pd\n",
    "import numpy as np\n",
    "from catboost import CatBoostRegressor, Pool\n",
    "from sklearn.model_selection import train_test_split, GridSearchCV\n",
    "import matplotlib.pyplot as plt\n",
    "from sklearn.model_selection import train_test_split\n",
    "from sklearn.metrics import mean_squared_error\n",
    "\n",
    "forex_df = pd.read_pickle(\"../data/GBP_JPY_H1.pkl\")"
   ]
  },
  {
   "cell_type": "code",
   "execution_count": 2,
   "id": "362ef8b1",
   "metadata": {},
   "outputs": [
    {
     "data": {
      "text/plain": [
       "Index(['time', 'volume', 'mid_o', 'mid_h', 'mid_l', 'mid_c', 'bid_o', 'bid_h',\n",
       "       'bid_l', 'bid_c', 'ask_o', 'ask_h', 'ask_l', 'ask_c'],\n",
       "      dtype='object')"
      ]
     },
     "execution_count": 2,
     "metadata": {},
     "output_type": "execute_result"
    }
   ],
   "source": [
    "forex_df.columns"
   ]
  },
  {
   "cell_type": "code",
   "execution_count": 3,
   "id": "f654fb74",
   "metadata": {},
   "outputs": [],
   "source": [
    "forex_df.drop(['bid_o', 'bid_h','bid_l', 'bid_c', 'ask_o','ask_h', 'ask_l', 'ask_c'], axis=1, inplace=True)"
   ]
  },
  {
   "cell_type": "code",
   "execution_count": 4,
   "id": "22279e8e",
   "metadata": {},
   "outputs": [],
   "source": [
    "def apply_direction(df):\n",
    "    direction = df.mid_c - df.mid_o\n",
    "    direction = [1 if x >= 0 else -1 for x in direction]\n",
    "    df['direction'] = direction"
   ]
  },
  {
   "cell_type": "code",
   "execution_count": 5,
   "id": "87b2af0c",
   "metadata": {},
   "outputs": [],
   "source": [
    "def create_lagged_features(df, max_lag, forecast_horizon):\n",
    "    for lag in range(1, max_lag + 1):\n",
    "        df[f'mid_c_lag_{lag}'] = df['mid_c'].shift(lag)\n",
    "\n",
    "    # Create a target variable, shifting 'mid_c' back by the forecast horizon\n",
    "    df['future_mid_c'] = df['mid_c'].shift(-forecast_horizon)\n",
    "    \n",
    "    # Remove rows with NaN values that result from shifting\n",
    "    df.dropna(inplace=True)"
   ]
  },
  {
   "cell_type": "code",
   "execution_count": 6,
   "id": "623ca055",
   "metadata": {},
   "outputs": [],
   "source": [
    "apply_direction(forex_df)\n",
    "create_lagged_features(forex_df, 5, 3)"
   ]
  },
  {
   "cell_type": "code",
   "execution_count": 7,
   "id": "2834f550",
   "metadata": {},
   "outputs": [],
   "source": [
    "backtest_split = len(forex_df) - int(len(forex_df)*0.5)\n",
    "\n",
    "# DataFrame used for training, hyperparameter tuning, and testing prediction accuracy\n",
    "df = forex_df.iloc[:backtest_split]\n",
    "\n",
    "# DataFrame used for backtesting trading\n",
    "backtest_df = forex_df.iloc[backtest_split:]"
   ]
  },
  {
   "cell_type": "code",
   "execution_count": 8,
   "id": "993a1904",
   "metadata": {},
   "outputs": [],
   "source": [
    "def tune_catboost_hyperparams(X, y, param_grid, cv=3, n_iter=50, plot=True):\n",
    "    # Split the data into training and validation sets\n",
    "    X_train, X_val, y_train, y_val = train_test_split(X, y, test_size=0.2, random_state=42)\n",
    "    \n",
    "    # Create a CatBoostRegressor instance\n",
    "    model = CatBoostRegressor(loss_function='RMSE', eval_metric='RMSE', verbose=0)\n",
    "    \n",
    "    # Setup the GridSearchCV\n",
    "    grid_search = GridSearchCV(estimator=model, param_grid=param_grid, cv=cv, scoring='neg_mean_squared_error', verbose=1)\n",
    "    \n",
    "    # Fit the model\n",
    "    grid_search.fit(X_train, y_train)\n",
    "    \n",
    "    # Best model\n",
    "    best_model = grid_search.best_estimator_\n",
    "    \n",
    "    return best_model"
   ]
  },
  {
   "cell_type": "code",
   "execution_count": 9,
   "id": "4b06fd81",
   "metadata": {},
   "outputs": [
    {
     "name": "stdout",
     "output_type": "stream",
     "text": [
      "Fitting 3 folds for each of 12 candidates, totalling 36 fits\n",
      "Best Parameters: {'iterations': 200, 'learning_rate': 0.1, 'depth': 10, 'loss_function': 'RMSE', 'verbose': 0, 'eval_metric': 'RMSE'}\n"
     ]
    }
   ],
   "source": [
    "# Assuming 'Price' is the target variable and the rest are features\n",
    "X = df.drop(['time','mid_c'], axis=1)\n",
    "y = df['mid_c']\n",
    "\n",
    "# Split the data into training, validation, and testing sets\n",
    "X_train, X_test, y_train, y_test = train_test_split(X, y, test_size=0.2, random_state=42)\n",
    "\n",
    "# Example parameter grid\n",
    "param_grid = {\n",
    "    'iterations': [100, 200],\n",
    "    'learning_rate': [0.01, 0.1],\n",
    "    'depth': [4, 6, 10]\n",
    "}\n",
    "\n",
    "# Tuning hyperparameters\n",
    "best_model = tune_catboost_hyperparams(X, y, param_grid)\n",
    "\n",
    "# Optionally, you can print the best parameters\n",
    "print(\"Best Parameters:\", best_model.get_params())"
   ]
  },
  {
   "cell_type": "code",
   "execution_count": 10,
   "id": "24be03bf",
   "metadata": {},
   "outputs": [
    {
     "name": "stdout",
     "output_type": "stream",
     "text": [
      "Mean Squared Error on Test Set: 0.03073726112092706\n"
     ]
    }
   ],
   "source": [
    "# Make predictions\n",
    "predictions = best_model.predict(X_test)\n",
    "\n",
    "# Evaluate the model\n",
    "mse = mean_squared_error(y_test, predictions)\n",
    "print(f'Mean Squared Error on Test Set: {mse}')"
   ]
  },
  {
   "cell_type": "code",
   "execution_count": 11,
   "id": "6428434c",
   "metadata": {},
   "outputs": [
    {
     "name": "stderr",
     "output_type": "stream",
     "text": [
      "C:\\Users\\aryan\\AppData\\Local\\Temp\\ipykernel_16660\\3146062622.py:7: SettingWithCopyWarning: \n",
      "A value is trying to be set on a copy of a slice from a DataFrame.\n",
      "Try using .loc[row_indexer,col_indexer] = value instead\n",
      "\n",
      "See the caveats in the documentation: https://pandas.pydata.org/pandas-docs/stable/user_guide/indexing.html#returning-a-view-versus-a-copy\n",
      "  backtest_df['price_change'] = (backtest_df['future_mid_c'] - backtest_df['mid_c']) / backtest_df['mid_c']\n",
      "C:\\Users\\aryan\\AppData\\Local\\Temp\\ipykernel_16660\\3146062622.py:10: SettingWithCopyWarning: \n",
      "A value is trying to be set on a copy of a slice from a DataFrame.\n",
      "Try using .loc[row_indexer,col_indexer] = value instead\n",
      "\n",
      "See the caveats in the documentation: https://pandas.pydata.org/pandas-docs/stable/user_guide/indexing.html#returning-a-view-versus-a-copy\n",
      "  backtest_df['signal'] = np.where(backtest_df['price_change'] > threshold_pct, 'Buy',\n",
      "C:\\Users\\aryan\\AppData\\Local\\Temp\\ipykernel_16660\\3146062622.py:14: SettingWithCopyWarning: \n",
      "A value is trying to be set on a copy of a slice from a DataFrame.\n",
      "Try using .loc[row_indexer,col_indexer] = value instead\n",
      "\n",
      "See the caveats in the documentation: https://pandas.pydata.org/pandas-docs/stable/user_guide/indexing.html#returning-a-view-versus-a-copy\n",
      "  backtest_df['stop_loss'] = np.where(backtest_df['signal'] == 'Buy', backtest_df['mid_c'] * (1 - stop_loss_pct),\n",
      "C:\\Users\\aryan\\AppData\\Local\\Temp\\ipykernel_16660\\3146062622.py:17: SettingWithCopyWarning: \n",
      "A value is trying to be set on a copy of a slice from a DataFrame.\n",
      "Try using .loc[row_indexer,col_indexer] = value instead\n",
      "\n",
      "See the caveats in the documentation: https://pandas.pydata.org/pandas-docs/stable/user_guide/indexing.html#returning-a-view-versus-a-copy\n",
      "  backtest_df['take_profit'] = np.where(backtest_df['signal'] == 'Buy', backtest_df['mid_c'] * (1 + take_profit_pct),\n"
     ]
    }
   ],
   "source": [
    "# Define thresholds\n",
    "threshold_pct = 0.01  # 1% change\n",
    "stop_loss_pct = 0.005  # 0.5%\n",
    "take_profit_pct = 0.015  # 1.5%\n",
    "\n",
    "# Calculate signals\n",
    "backtest_df['price_change'] = (backtest_df['future_mid_c'] - backtest_df['mid_c']) / backtest_df['mid_c']\n",
    "\n",
    "# Generate trading signals\n",
    "backtest_df['signal'] = np.where(backtest_df['price_change'] > threshold_pct, 'Buy',\n",
    "                        np.where(backtest_df['price_change'] < -threshold_pct, 'Sell', 'Hold'))\n",
    "\n",
    "# Calculate stop loss and take profit prices for each trade\n",
    "backtest_df['stop_loss'] = np.where(backtest_df['signal'] == 'Buy', backtest_df['mid_c'] * (1 - stop_loss_pct),\n",
    "                           np.where(backtest_df['signal'] == 'Sell', backtest_df['mid_c'] * (1 + stop_loss_pct), np.nan))\n",
    "\n",
    "backtest_df['take_profit'] = np.where(backtest_df['signal'] == 'Buy', backtest_df['mid_c'] * (1 + take_profit_pct),\n",
    "                             np.where(backtest_df['signal'] == 'Sell', backtest_df['mid_c'] * (1 - take_profit_pct), np.nan))\n",
    "\n",
    "backtest_df = backtest_df[['time', 'mid_c', 'future_mid_c', 'signal', 'stop_loss', 'take_profit']]"
   ]
  },
  {
   "cell_type": "code",
   "execution_count": 12,
   "id": "f2165686",
   "metadata": {},
   "outputs": [
    {
     "data": {
      "text/html": [
       "<div>\n",
       "<style scoped>\n",
       "    .dataframe tbody tr th:only-of-type {\n",
       "        vertical-align: middle;\n",
       "    }\n",
       "\n",
       "    .dataframe tbody tr th {\n",
       "        vertical-align: top;\n",
       "    }\n",
       "\n",
       "    .dataframe thead th {\n",
       "        text-align: right;\n",
       "    }\n",
       "</style>\n",
       "<table border=\"1\" class=\"dataframe\">\n",
       "  <thead>\n",
       "    <tr style=\"text-align: right;\">\n",
       "      <th></th>\n",
       "      <th>time</th>\n",
       "      <th>mid_c</th>\n",
       "      <th>future_mid_c</th>\n",
       "      <th>signal</th>\n",
       "      <th>stop_loss</th>\n",
       "      <th>take_profit</th>\n",
       "    </tr>\n",
       "  </thead>\n",
       "  <tbody>\n",
       "    <tr>\n",
       "      <th>18785</th>\n",
       "      <td>2019-01-15 17:00:00+00:00</td>\n",
       "      <td>138.286</td>\n",
       "      <td>140.006</td>\n",
       "      <td>Buy</td>\n",
       "      <td>137.59457</td>\n",
       "      <td>140.36029</td>\n",
       "    </tr>\n",
       "    <tr>\n",
       "      <th>18786</th>\n",
       "      <td>2019-01-15 18:00:00+00:00</td>\n",
       "      <td>137.906</td>\n",
       "      <td>139.792</td>\n",
       "      <td>Buy</td>\n",
       "      <td>137.21647</td>\n",
       "      <td>139.97459</td>\n",
       "    </tr>\n",
       "    <tr>\n",
       "      <th>19737</th>\n",
       "      <td>2019-03-12 08:00:00+00:00</td>\n",
       "      <td>147.306</td>\n",
       "      <td>145.301</td>\n",
       "      <td>Sell</td>\n",
       "      <td>148.04253</td>\n",
       "      <td>145.09641</td>\n",
       "    </tr>\n",
       "    <tr>\n",
       "      <th>19738</th>\n",
       "      <td>2019-03-12 09:00:00+00:00</td>\n",
       "      <td>147.070</td>\n",
       "      <td>145.572</td>\n",
       "      <td>Sell</td>\n",
       "      <td>147.80535</td>\n",
       "      <td>144.86395</td>\n",
       "    </tr>\n",
       "    <tr>\n",
       "      <th>22383</th>\n",
       "      <td>2019-08-13 10:00:00+00:00</td>\n",
       "      <td>127.158</td>\n",
       "      <td>128.767</td>\n",
       "      <td>Buy</td>\n",
       "      <td>126.52221</td>\n",
       "      <td>129.06537</td>\n",
       "    </tr>\n",
       "    <tr>\n",
       "      <th>...</th>\n",
       "      <td>...</td>\n",
       "      <td>...</td>\n",
       "      <td>...</td>\n",
       "      <td>...</td>\n",
       "      <td>...</td>\n",
       "      <td>...</td>\n",
       "    </tr>\n",
       "    <tr>\n",
       "      <th>30107</th>\n",
       "      <td>2020-11-09 09:00:00+00:00</td>\n",
       "      <td>136.174</td>\n",
       "      <td>138.244</td>\n",
       "      <td>Buy</td>\n",
       "      <td>135.49313</td>\n",
       "      <td>138.21661</td>\n",
       "    </tr>\n",
       "    <tr>\n",
       "      <th>30108</th>\n",
       "      <td>2020-11-09 10:00:00+00:00</td>\n",
       "      <td>136.306</td>\n",
       "      <td>138.228</td>\n",
       "      <td>Buy</td>\n",
       "      <td>135.62447</td>\n",
       "      <td>138.35059</td>\n",
       "    </tr>\n",
       "    <tr>\n",
       "      <th>30109</th>\n",
       "      <td>2020-11-09 11:00:00+00:00</td>\n",
       "      <td>137.228</td>\n",
       "      <td>138.616</td>\n",
       "      <td>Buy</td>\n",
       "      <td>136.54186</td>\n",
       "      <td>139.28642</td>\n",
       "    </tr>\n",
       "    <tr>\n",
       "      <th>30583</th>\n",
       "      <td>2020-12-07 05:00:00+00:00</td>\n",
       "      <td>139.652</td>\n",
       "      <td>138.102</td>\n",
       "      <td>Sell</td>\n",
       "      <td>140.35026</td>\n",
       "      <td>137.55722</td>\n",
       "    </tr>\n",
       "    <tr>\n",
       "      <th>36254</th>\n",
       "      <td>2021-11-04 11:00:00+00:00</td>\n",
       "      <td>155.254</td>\n",
       "      <td>153.416</td>\n",
       "      <td>Sell</td>\n",
       "      <td>156.03027</td>\n",
       "      <td>152.92519</td>\n",
       "    </tr>\n",
       "  </tbody>\n",
       "</table>\n",
       "<p>69 rows × 6 columns</p>\n",
       "</div>"
      ],
      "text/plain": [
       "                           time    mid_c  future_mid_c signal  stop_loss  \\\n",
       "18785 2019-01-15 17:00:00+00:00  138.286       140.006    Buy  137.59457   \n",
       "18786 2019-01-15 18:00:00+00:00  137.906       139.792    Buy  137.21647   \n",
       "19737 2019-03-12 08:00:00+00:00  147.306       145.301   Sell  148.04253   \n",
       "19738 2019-03-12 09:00:00+00:00  147.070       145.572   Sell  147.80535   \n",
       "22383 2019-08-13 10:00:00+00:00  127.158       128.767    Buy  126.52221   \n",
       "...                         ...      ...           ...    ...        ...   \n",
       "30107 2020-11-09 09:00:00+00:00  136.174       138.244    Buy  135.49313   \n",
       "30108 2020-11-09 10:00:00+00:00  136.306       138.228    Buy  135.62447   \n",
       "30109 2020-11-09 11:00:00+00:00  137.228       138.616    Buy  136.54186   \n",
       "30583 2020-12-07 05:00:00+00:00  139.652       138.102   Sell  140.35026   \n",
       "36254 2021-11-04 11:00:00+00:00  155.254       153.416   Sell  156.03027   \n",
       "\n",
       "       take_profit  \n",
       "18785    140.36029  \n",
       "18786    139.97459  \n",
       "19737    145.09641  \n",
       "19738    144.86395  \n",
       "22383    129.06537  \n",
       "...            ...  \n",
       "30107    138.21661  \n",
       "30108    138.35059  \n",
       "30109    139.28642  \n",
       "30583    137.55722  \n",
       "36254    152.92519  \n",
       "\n",
       "[69 rows x 6 columns]"
      ]
     },
     "execution_count": 12,
     "metadata": {},
     "output_type": "execute_result"
    }
   ],
   "source": [
    "backtest_df[backtest_df.signal != 'Hold']"
   ]
  },
  {
   "cell_type": "code",
   "execution_count": 13,
   "id": "9d9bab5a",
   "metadata": {},
   "outputs": [
    {
     "name": "stdout",
     "output_type": "stream",
     "text": [
      "Cumulative gains: 117.009585\n"
     ]
    }
   ],
   "source": [
    "cumulative_gains = 0\n",
    "\n",
    "for index, row in backtest_df.iterrows():\n",
    "    entry_price = row['mid_c']\n",
    "    gain = 0\n",
    "    if row['signal'] == 'Buy':\n",
    "        # Check if take profit or stop loss would have been hit first\n",
    "        if row['take_profit'] <= row['future_mid_c']:\n",
    "            gain = row['take_profit'] - entry_price\n",
    "        elif row['stop_loss'] >= row['future_mid_c']:\n",
    "            gain = row['stop_loss'] - entry_price\n",
    "        else:\n",
    "            gain = row['future_mid_c'] - entry_price  # close at future price if neither is hit\n",
    "    elif row['signal'] == 'Sell':\n",
    "        if row['take_profit'] >= row['future_mid_c']:\n",
    "            gain = entry_price - row['take_profit']\n",
    "        elif row['stop_loss'] <= row['future_mid_c']:\n",
    "            gain = entry_price - row['stop_loss']\n",
    "        else:\n",
    "            gain = entry_price - row['future_mid_c']  # close at future price if neither is hit\n",
    "    \n",
    "    # Update cumulative gains\n",
    "    cumulative_gains += gain\n",
    "\n",
    "# Print the result\n",
    "print(f'Cumulative gains: {cumulative_gains}')"
   ]
  }
 ],
 "metadata": {
  "kernelspec": {
   "display_name": "Python 3 (ipykernel)",
   "language": "python",
   "name": "python3"
  },
  "language_info": {
   "codemirror_mode": {
    "name": "ipython",
    "version": 3
   },
   "file_extension": ".py",
   "mimetype": "text/x-python",
   "name": "python",
   "nbconvert_exporter": "python",
   "pygments_lexer": "ipython3",
   "version": "3.10.4"
  }
 },
 "nbformat": 4,
 "nbformat_minor": 5
}
